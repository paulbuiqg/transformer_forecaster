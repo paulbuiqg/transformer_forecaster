{
  "cells": [
    {
      "cell_type": "markdown",
      "metadata": {
        "id": "fhYsio3hnxiS"
      },
      "source": [
        "First let's import data in a dataframe."
      ]
    },
    {
      "cell_type": "code",
      "execution_count": 1,
      "metadata": {
        "colab": {
          "base_uri": "https://localhost:8080/",
          "height": 206
        },
        "id": "8jsxgmnLD_dG",
        "outputId": "01d5b218-5512-4306-f207-3a9dbcdb6488"
      },
      "outputs": [
        {
          "output_type": "execute_result",
          "data": {
            "text/plain": [
              "  CURRENCY TIME_PERIOD  OBS_VALUE\n",
              "0      EUR  1974-06-28   0.828947\n",
              "1      EUR  1974-07-01   0.828322\n",
              "2      EUR  1974-07-02   0.828837\n",
              "3      EUR  1974-07-03   0.826228\n",
              "4      EUR  1974-07-04   0.830006"
            ],
            "text/html": [
              "\n",
              "  <div id=\"df-126c14e1-1da0-41bb-879a-7e5050212b63\" class=\"colab-df-container\">\n",
              "    <div>\n",
              "<style scoped>\n",
              "    .dataframe tbody tr th:only-of-type {\n",
              "        vertical-align: middle;\n",
              "    }\n",
              "\n",
              "    .dataframe tbody tr th {\n",
              "        vertical-align: top;\n",
              "    }\n",
              "\n",
              "    .dataframe thead th {\n",
              "        text-align: right;\n",
              "    }\n",
              "</style>\n",
              "<table border=\"1\" class=\"dataframe\">\n",
              "  <thead>\n",
              "    <tr style=\"text-align: right;\">\n",
              "      <th></th>\n",
              "      <th>CURRENCY</th>\n",
              "      <th>TIME_PERIOD</th>\n",
              "      <th>OBS_VALUE</th>\n",
              "    </tr>\n",
              "  </thead>\n",
              "  <tbody>\n",
              "    <tr>\n",
              "      <th>0</th>\n",
              "      <td>EUR</td>\n",
              "      <td>1974-06-28</td>\n",
              "      <td>0.828947</td>\n",
              "    </tr>\n",
              "    <tr>\n",
              "      <th>1</th>\n",
              "      <td>EUR</td>\n",
              "      <td>1974-07-01</td>\n",
              "      <td>0.828322</td>\n",
              "    </tr>\n",
              "    <tr>\n",
              "      <th>2</th>\n",
              "      <td>EUR</td>\n",
              "      <td>1974-07-02</td>\n",
              "      <td>0.828837</td>\n",
              "    </tr>\n",
              "    <tr>\n",
              "      <th>3</th>\n",
              "      <td>EUR</td>\n",
              "      <td>1974-07-03</td>\n",
              "      <td>0.826228</td>\n",
              "    </tr>\n",
              "    <tr>\n",
              "      <th>4</th>\n",
              "      <td>EUR</td>\n",
              "      <td>1974-07-04</td>\n",
              "      <td>0.830006</td>\n",
              "    </tr>\n",
              "  </tbody>\n",
              "</table>\n",
              "</div>\n",
              "    <div class=\"colab-df-buttons\">\n",
              "\n",
              "  <div class=\"colab-df-container\">\n",
              "    <button class=\"colab-df-convert\" onclick=\"convertToInteractive('df-126c14e1-1da0-41bb-879a-7e5050212b63')\"\n",
              "            title=\"Convert this dataframe to an interactive table.\"\n",
              "            style=\"display:none;\">\n",
              "\n",
              "  <svg xmlns=\"http://www.w3.org/2000/svg\" height=\"24px\" viewBox=\"0 -960 960 960\">\n",
              "    <path d=\"M120-120v-720h720v720H120Zm60-500h600v-160H180v160Zm220 220h160v-160H400v160Zm0 220h160v-160H400v160ZM180-400h160v-160H180v160Zm440 0h160v-160H620v160ZM180-180h160v-160H180v160Zm440 0h160v-160H620v160Z\"/>\n",
              "  </svg>\n",
              "    </button>\n",
              "\n",
              "  <style>\n",
              "    .colab-df-container {\n",
              "      display:flex;\n",
              "      gap: 12px;\n",
              "    }\n",
              "\n",
              "    .colab-df-convert {\n",
              "      background-color: #E8F0FE;\n",
              "      border: none;\n",
              "      border-radius: 50%;\n",
              "      cursor: pointer;\n",
              "      display: none;\n",
              "      fill: #1967D2;\n",
              "      height: 32px;\n",
              "      padding: 0 0 0 0;\n",
              "      width: 32px;\n",
              "    }\n",
              "\n",
              "    .colab-df-convert:hover {\n",
              "      background-color: #E2EBFA;\n",
              "      box-shadow: 0px 1px 2px rgba(60, 64, 67, 0.3), 0px 1px 3px 1px rgba(60, 64, 67, 0.15);\n",
              "      fill: #174EA6;\n",
              "    }\n",
              "\n",
              "    .colab-df-buttons div {\n",
              "      margin-bottom: 4px;\n",
              "    }\n",
              "\n",
              "    [theme=dark] .colab-df-convert {\n",
              "      background-color: #3B4455;\n",
              "      fill: #D2E3FC;\n",
              "    }\n",
              "\n",
              "    [theme=dark] .colab-df-convert:hover {\n",
              "      background-color: #434B5C;\n",
              "      box-shadow: 0px 1px 3px 1px rgba(0, 0, 0, 0.15);\n",
              "      filter: drop-shadow(0px 1px 2px rgba(0, 0, 0, 0.3));\n",
              "      fill: #FFFFFF;\n",
              "    }\n",
              "  </style>\n",
              "\n",
              "    <script>\n",
              "      const buttonEl =\n",
              "        document.querySelector('#df-126c14e1-1da0-41bb-879a-7e5050212b63 button.colab-df-convert');\n",
              "      buttonEl.style.display =\n",
              "        google.colab.kernel.accessAllowed ? 'block' : 'none';\n",
              "\n",
              "      async function convertToInteractive(key) {\n",
              "        const element = document.querySelector('#df-126c14e1-1da0-41bb-879a-7e5050212b63');\n",
              "        const dataTable =\n",
              "          await google.colab.kernel.invokeFunction('convertToInteractive',\n",
              "                                                    [key], {});\n",
              "        if (!dataTable) return;\n",
              "\n",
              "        const docLinkHtml = 'Like what you see? Visit the ' +\n",
              "          '<a target=\"_blank\" href=https://colab.research.google.com/notebooks/data_table.ipynb>data table notebook</a>'\n",
              "          + ' to learn more about interactive tables.';\n",
              "        element.innerHTML = '';\n",
              "        dataTable['output_type'] = 'display_data';\n",
              "        await google.colab.output.renderOutput(dataTable, element);\n",
              "        const docLink = document.createElement('div');\n",
              "        docLink.innerHTML = docLinkHtml;\n",
              "        element.appendChild(docLink);\n",
              "      }\n",
              "    </script>\n",
              "  </div>\n",
              "\n",
              "\n",
              "<div id=\"df-c54d7363-0c18-4fe0-8bde-ae2c1581b29f\">\n",
              "  <button class=\"colab-df-quickchart\" onclick=\"quickchart('df-c54d7363-0c18-4fe0-8bde-ae2c1581b29f')\"\n",
              "            title=\"Suggest charts\"\n",
              "            style=\"display:none;\">\n",
              "\n",
              "<svg xmlns=\"http://www.w3.org/2000/svg\" height=\"24px\"viewBox=\"0 0 24 24\"\n",
              "     width=\"24px\">\n",
              "    <g>\n",
              "        <path d=\"M19 3H5c-1.1 0-2 .9-2 2v14c0 1.1.9 2 2 2h14c1.1 0 2-.9 2-2V5c0-1.1-.9-2-2-2zM9 17H7v-7h2v7zm4 0h-2V7h2v10zm4 0h-2v-4h2v4z\"/>\n",
              "    </g>\n",
              "</svg>\n",
              "  </button>\n",
              "\n",
              "<style>\n",
              "  .colab-df-quickchart {\n",
              "      --bg-color: #E8F0FE;\n",
              "      --fill-color: #1967D2;\n",
              "      --hover-bg-color: #E2EBFA;\n",
              "      --hover-fill-color: #174EA6;\n",
              "      --disabled-fill-color: #AAA;\n",
              "      --disabled-bg-color: #DDD;\n",
              "  }\n",
              "\n",
              "  [theme=dark] .colab-df-quickchart {\n",
              "      --bg-color: #3B4455;\n",
              "      --fill-color: #D2E3FC;\n",
              "      --hover-bg-color: #434B5C;\n",
              "      --hover-fill-color: #FFFFFF;\n",
              "      --disabled-bg-color: #3B4455;\n",
              "      --disabled-fill-color: #666;\n",
              "  }\n",
              "\n",
              "  .colab-df-quickchart {\n",
              "    background-color: var(--bg-color);\n",
              "    border: none;\n",
              "    border-radius: 50%;\n",
              "    cursor: pointer;\n",
              "    display: none;\n",
              "    fill: var(--fill-color);\n",
              "    height: 32px;\n",
              "    padding: 0;\n",
              "    width: 32px;\n",
              "  }\n",
              "\n",
              "  .colab-df-quickchart:hover {\n",
              "    background-color: var(--hover-bg-color);\n",
              "    box-shadow: 0 1px 2px rgba(60, 64, 67, 0.3), 0 1px 3px 1px rgba(60, 64, 67, 0.15);\n",
              "    fill: var(--button-hover-fill-color);\n",
              "  }\n",
              "\n",
              "  .colab-df-quickchart-complete:disabled,\n",
              "  .colab-df-quickchart-complete:disabled:hover {\n",
              "    background-color: var(--disabled-bg-color);\n",
              "    fill: var(--disabled-fill-color);\n",
              "    box-shadow: none;\n",
              "  }\n",
              "\n",
              "  .colab-df-spinner {\n",
              "    border: 2px solid var(--fill-color);\n",
              "    border-color: transparent;\n",
              "    border-bottom-color: var(--fill-color);\n",
              "    animation:\n",
              "      spin 1s steps(1) infinite;\n",
              "  }\n",
              "\n",
              "  @keyframes spin {\n",
              "    0% {\n",
              "      border-color: transparent;\n",
              "      border-bottom-color: var(--fill-color);\n",
              "      border-left-color: var(--fill-color);\n",
              "    }\n",
              "    20% {\n",
              "      border-color: transparent;\n",
              "      border-left-color: var(--fill-color);\n",
              "      border-top-color: var(--fill-color);\n",
              "    }\n",
              "    30% {\n",
              "      border-color: transparent;\n",
              "      border-left-color: var(--fill-color);\n",
              "      border-top-color: var(--fill-color);\n",
              "      border-right-color: var(--fill-color);\n",
              "    }\n",
              "    40% {\n",
              "      border-color: transparent;\n",
              "      border-right-color: var(--fill-color);\n",
              "      border-top-color: var(--fill-color);\n",
              "    }\n",
              "    60% {\n",
              "      border-color: transparent;\n",
              "      border-right-color: var(--fill-color);\n",
              "    }\n",
              "    80% {\n",
              "      border-color: transparent;\n",
              "      border-right-color: var(--fill-color);\n",
              "      border-bottom-color: var(--fill-color);\n",
              "    }\n",
              "    90% {\n",
              "      border-color: transparent;\n",
              "      border-bottom-color: var(--fill-color);\n",
              "    }\n",
              "  }\n",
              "</style>\n",
              "\n",
              "  <script>\n",
              "    async function quickchart(key) {\n",
              "      const quickchartButtonEl =\n",
              "        document.querySelector('#' + key + ' button');\n",
              "      quickchartButtonEl.disabled = true;  // To prevent multiple clicks.\n",
              "      quickchartButtonEl.classList.add('colab-df-spinner');\n",
              "      try {\n",
              "        const charts = await google.colab.kernel.invokeFunction(\n",
              "            'suggestCharts', [key], {});\n",
              "      } catch (error) {\n",
              "        console.error('Error during call to suggestCharts:', error);\n",
              "      }\n",
              "      quickchartButtonEl.classList.remove('colab-df-spinner');\n",
              "      quickchartButtonEl.classList.add('colab-df-quickchart-complete');\n",
              "    }\n",
              "    (() => {\n",
              "      let quickchartButtonEl =\n",
              "        document.querySelector('#df-c54d7363-0c18-4fe0-8bde-ae2c1581b29f button');\n",
              "      quickchartButtonEl.style.display =\n",
              "        google.colab.kernel.accessAllowed ? 'block' : 'none';\n",
              "    })();\n",
              "  </script>\n",
              "</div>\n",
              "\n",
              "    </div>\n",
              "  </div>\n"
            ],
            "application/vnd.google.colaboratory.intrinsic+json": {
              "type": "dataframe",
              "variable_name": "data",
              "summary": "{\n  \"name\": \"data\",\n  \"rows\": 31023,\n  \"fields\": [\n    {\n      \"column\": \"CURRENCY\",\n      \"properties\": {\n        \"dtype\": \"category\",\n        \"num_unique_values\": 2,\n        \"samples\": [\n          \"GBP\",\n          \"EUR\"\n        ],\n        \"semantic_type\": \"\",\n        \"description\": \"\"\n      }\n    },\n    {\n      \"column\": \"TIME_PERIOD\",\n      \"properties\": {\n        \"dtype\": \"date\",\n        \"min\": \"1953-08-10 00:00:00\",\n        \"max\": \"2024-06-11 00:00:00\",\n        \"num_unique_values\": 18309,\n        \"samples\": [\n          \"1995-01-04 00:00:00\",\n          \"2024-03-18 00:00:00\"\n        ],\n        \"semantic_type\": \"\",\n        \"description\": \"\"\n      }\n    },\n    {\n      \"column\": \"OBS_VALUE\",\n      \"properties\": {\n        \"dtype\": \"number\",\n        \"std\": 0.21397486382708825,\n        \"min\": 0.354914,\n        \"max\": 1.564372,\n        \"num_unique_values\": 24164,\n        \"samples\": [\n          0.620365,\n          0.795475\n        ],\n        \"semantic_type\": \"\",\n        \"description\": \"\"\n      }\n    }\n  ]\n}"
            }
          },
          "metadata": {},
          "execution_count": 1
        }
      ],
      "source": [
        "import pandas as pd\n",
        "\n",
        "\n",
        "urls = ['https://stats.bis.org/api/v2/data/dataflow/BIS/WS_XRU/1.0/D.XM.EUR.A?format=csv',\n",
        "        'https://stats.bis.org/api/v2/data/dataflow/BIS/WS_XRU/1.0/D.GB.GBP.A?format=csv']\n",
        "\n",
        "data = pd.concat([pd.read_csv(url) for url in urls])\n",
        "data = data[['CURRENCY', 'TIME_PERIOD', 'OBS_VALUE']].dropna()\n",
        "data['TIME_PERIOD'] = pd.to_datetime(data['TIME_PERIOD'])\n",
        "data.head()"
      ]
    },
    {
      "cell_type": "markdown",
      "metadata": {
        "id": "UvQuBE05n4eC"
      },
      "source": [
        "Then visualize the two timeseries to be forecasted."
      ]
    },
    {
      "cell_type": "code",
      "execution_count": 2,
      "metadata": {
        "colab": {
          "base_uri": "https://localhost:8080/",
          "height": 927
        },
        "id": "Ym6ARQUzqqC6",
        "outputId": "7b8835d9-e609-4fdd-a4df-58e1b8a4fbb9"
      },
      "outputs": [
        {
          "output_type": "display_data",
          "data": {
            "text/plain": [
              "<Figure size 640x480 with 1 Axes>"
            ],
            "image/png": "[encoded data removed]"
          },
          "metadata": {}
        },
        {
          "output_type": "display_data",
          "data": {
            "text/plain": [
              "<Figure size 640x480 with 1 Axes>"
            ],
            "image/png": "[encoded data removed]"
          },
          "metadata": {}
        }
      ],
      "source": [
        "import matplotlib.pyplot as plt\n",
        "\n",
        "\n",
        "data_eur = data.loc[data['CURRENCY'] == 'EUR']\n",
        "data_gbp = data.loc[data['CURRENCY'] == 'GBP']\n",
        "\n",
        "plt.plot(data_eur['TIME_PERIOD'], data_eur['OBS_VALUE'])\n",
        "plt.xlabel('Time')\n",
        "plt.ylabel('Exchange rate')\n",
        "plt.title('EUR / USD')\n",
        "plt.show()\n",
        "\n",
        "plt.plot(data_gbp['TIME_PERIOD'], data_gbp['OBS_VALUE'])\n",
        "plt.xlabel('Time')\n",
        "plt.ylabel('Exchange rate')\n",
        "plt.title('GBP / USD')\n",
        "plt.show()"
      ]
    },
    {
      "cell_type": "markdown",
      "source": [
        "Get a common time grid for the two time series."
      ],
      "metadata": {
        "id": "y8uQAeK919dG"
      }
    },
    {
      "cell_type": "code",
      "source": [
        "time_grid_eur = data_eur['TIME_PERIOD'].drop_duplicates()\n",
        "time_grid_gbp = data_gbp['TIME_PERIOD'].drop_duplicates()\n",
        "time_grid = list(set(time_grid_eur).intersection(set(time_grid_gbp)))\n",
        "time_grid = sorted(time_grid)\n",
        "\n",
        "data_eur = data_eur.loc[data_eur['TIME_PERIOD'].isin(time_grid)]\n",
        "data_gbp = data_gbp.loc[data_gbp['TIME_PERIOD'].isin(time_grid)]\n",
        "\n",
        "print(f'Length of EUR timeseries: {len(data_eur)}')\n",
        "print(f'Length of GBP timeseries: {len(data_gbp)}')"
      ],
      "metadata": {
        "colab": {
          "base_uri": "https://localhost:8080/"
        },
        "id": "dYvWJCpR1SC_",
        "outputId": "5c4cf770-dc5d-47fa-fb71-43a072cad332"
      },
      "execution_count": 3,
      "outputs": [
        {
          "output_type": "stream",
          "name": "stdout",
          "text": [
            "Length of EUR timeseries: 12714\n",
            "Length of GBP timeseries: 12714\n"
          ]
        }
      ]
    },
    {
      "cell_type": "markdown",
      "source": [
        "Define constants for the forecaster sequence (i.e. timeseries) input length and the number of timeseries."
      ],
      "metadata": {
        "id": "RL2zHbfO3roG"
      }
    },
    {
      "cell_type": "code",
      "execution_count": 4,
      "metadata": {
        "id": "RgTVabVMvSqC"
      },
      "outputs": [],
      "source": [
        "INPUT_LENGTH = 64\n",
        "N_FEAT = 2"
      ]
    },
    {
      "cell_type": "markdown",
      "metadata": {
        "id": "15boOP_poecx"
      },
      "source": [
        "Define a PyTorch Dataset and Dataloader for our bivariate timeseries forecasting problem."
      ]
    },
    {
      "cell_type": "code",
      "execution_count": 5,
      "metadata": {
        "id": "IDKlSJowmtrc"
      },
      "outputs": [],
      "source": [
        "import random\n",
        "from typing import Tuple\n",
        "\n",
        "import numpy as np\n",
        "import torch\n",
        "from torch.utils.data import DataLoader, Dataset\n",
        "\n",
        "\n",
        "class ExchangeTimeSeries(Dataset):\n",
        "\n",
        "    def __init__(self, data_0: pd.DataFrame, data_1: pd.DataFrame):\n",
        "        super().__init__()\n",
        "        self.data_0 = data_0\n",
        "        self.data_1 = data_1\n",
        "        self.feat_mean = torch.tensor([0] * N_FEAT)\n",
        "        self.feat_std = torch.tensor([1] * N_FEAT)\n",
        "\n",
        "    def __len__(self) -> int:\n",
        "        return len(self.data_0) - INPUT_LENGTH - 1\n",
        "\n",
        "    def __getitem__(self, i: int) -> Tuple[torch.Tensor, torch.Tensor]:\n",
        "        # Input sequences\n",
        "        X0 = self.data_0['OBS_VALUE'].iloc[i: i + INPUT_LENGTH].values\n",
        "        X1 = self.data_1['OBS_VALUE'].iloc[i: i + INPUT_LENGTH].values\n",
        "        X = np.array([X0, X1]).T\n",
        "        X = torch.tensor(X.astype(np.float32))\n",
        "        # Output values\n",
        "        y0 = self.data_0['OBS_VALUE'].iloc[i + INPUT_LENGTH]\n",
        "        y1 = self.data_1['OBS_VALUE'].iloc[i + INPUT_LENGTH]\n",
        "        y = torch.tensor([y0.astype(np.float32), y1.astype(np.float32)])\n",
        "        # Normalize\n",
        "        X -= self.feat_mean.unsqueeze(0).repeat((INPUT_LENGTH, 1))\n",
        "        X /= self.feat_std.unsqueeze(0).repeat((INPUT_LENGTH, 1))\n",
        "        return X, y\n",
        "\n",
        "    def infer_mean_and_std(self) -> Tuple[torch.Tensor, torch.Tensor]:\n",
        "        feat_mean = torch.Tensor([\n",
        "            self.data_0['OBS_VALUE'].mean().astype('float32'),\n",
        "            self.data_1['OBS_VALUE'].mean().astype('float32')\n",
        "        ])\n",
        "        feat_std = torch.Tensor([\n",
        "            self.data_0['OBS_VALUE'].std().astype('float32'),\n",
        "            self.data_1['OBS_VALUE'].std().astype('float32')\n",
        "        ])\n",
        "        return feat_mean, feat_std\n",
        "\n",
        "    def set_mean_and_std(self, feat_mean: torch.Tensor, feat_std: torch.Tensor):\n",
        "        self.feat_mean = feat_mean\n",
        "        self.feat_std = feat_std\n",
        "\n",
        "\n",
        "# Tests\n",
        "\n",
        "def test_exchangetimeseries(dataset: ExchangeTimeSeries):\n",
        "    i = random.randrange(len(dataset))\n",
        "    X, y = dataset[i]\n",
        "    assert X.size() == torch.Size([INPUT_LENGTH, N_FEAT])\n",
        "    assert y.size() == torch.Size([N_FEAT])\n",
        "    assert torch.isnan(X).any().item() == False\n",
        "    assert torch.isnan(y).any().item() == False\n",
        "    assert dataset.feat_mean.size() == dataset.feat_std.size() \\\n",
        "            == torch.Size([N_FEAT])\n",
        "\n",
        "def test_dataloader(dataloader: DataLoader):\n",
        "    for X, y in dataloader:\n",
        "        assert X.size() == torch.Size([32, INPUT_LENGTH, N_FEAT])\n",
        "        assert y.size() == torch.Size([32, N_FEAT])\n",
        "        break\n",
        "\n",
        "dataset = ExchangeTimeSeries(data_eur, data_gbp)\n",
        "dataloader = DataLoader(dataset, batch_size=32, shuffle=True)\n",
        "\n",
        "test_exchangetimeseries(dataset)\n",
        "test_dataloader(dataloader)"
      ]
    },
    {
      "cell_type": "markdown",
      "metadata": {
        "id": "XHU-jmeHo8Tt"
      },
      "source": [
        "Define neural net model: transformer encoder and linear layer."
      ]
    },
    {
      "cell_type": "code",
      "execution_count": 6,
      "metadata": {
        "id": "EeiPs6C_tl8L"
      },
      "outputs": [],
      "source": [
        "from torch import nn\n",
        "from tqdm import tqdm\n",
        "\n",
        "\n",
        "class TransformerForecaster(nn.Module):\n",
        "\n",
        "    def __init__(self):\n",
        "        super().__init__()\n",
        "        self.linear_input = nn.Linear(N_FEAT, 128)\n",
        "        transformer = nn.TransformerEncoderLayer(128, 4, batch_first=True)\n",
        "        self.positional_encoding = nn.Parameter(self._get_positional_encoding(),\n",
        "                                                requires_grad=False)\n",
        "        self.transformer_stack = nn.TransformerEncoder(transformer,\n",
        "                                                       num_layers=6)\n",
        "        self.flatten = nn.Flatten()\n",
        "        self.linear_output = nn.Linear(INPUT_LENGTH * 128, N_FEAT)\n",
        "        # Checkpoint\n",
        "        self.checkpoint = {\n",
        "            'train_loss_history': [],\n",
        "            'val_loss_history': [],\n",
        "            'epochs': 0,\n",
        "            'best_val_loss': float('inf'),\n",
        "            'best_epoch': 0,\n",
        "            'patience_counter': 0,\n",
        "        }\n",
        "\n",
        "    def _get_positional_encoding(self) -> torch.Tensor:\n",
        "        position = torch.arange(0, INPUT_LENGTH).unsqueeze(1)\n",
        "        div_term = torch.exp(torch.arange(0, 128, 2)\n",
        "                             * -(torch.log(torch.tensor(10000.0)) / 128))\n",
        "        positional_encoding = torch.zeros(INPUT_LENGTH, 128)\n",
        "        positional_encoding[:, 0::2] = torch.sin(position * div_term)\n",
        "        positional_encoding[:, 1::2] = torch.cos(position * div_term)\n",
        "        return positional_encoding.unsqueeze(0)\n",
        "\n",
        "    def forward(self, X: torch.Tensor) -> torch.Tensor:\n",
        "        X = self.linear_input(X)\n",
        "        X = X + self.positional_encoding\n",
        "        X = self.transformer_stack(X)\n",
        "        X = self.flatten(X)\n",
        "        X = self.linear_output(X)\n",
        "        return X\n",
        "\n",
        "    def train_one_epoch(\n",
        "        self,\n",
        "        dataloader: DataLoader,\n",
        "        loss_fn: torch.nn.Module,\n",
        "        optimizer: torch.optim.Optimizer,\n",
        "    ) -> Tuple[torch.optim.Optimizer, list]:\n",
        "        self.train()\n",
        "        loss_history = []\n",
        "        pbar = tqdm(dataloader, desc='Training', unit='batch')\n",
        "        for X, y in pbar:\n",
        "            y_pred = self(X)\n",
        "            loss = loss_fn(y_pred, y)\n",
        "            loss.backward()\n",
        "            loss_history.append(loss.item())\n",
        "            pbar.set_postfix_str(f'loss={loss.item():>8f}')\n",
        "            del loss\n",
        "            optimizer.step()\n",
        "            optimizer.zero_grad()\n",
        "        return optimizer, loss_history\n",
        "\n",
        "    def train_many_epochs(\n",
        "        self,\n",
        "        dataloader_train: DataLoader,\n",
        "        dataloader_val: DataLoader,\n",
        "        loss_fn: torch.nn.Module,\n",
        "        optimizer: torch.optim.Optimizer,\n",
        "        n_epoch: int,\n",
        "        patience: int\n",
        "    ):\n",
        "        epoch = self.checkpoint['epochs'] + 1\n",
        "        for epoch in range(epoch, epoch + n_epoch):\n",
        "            print(f'-- Epoch {epoch} --')\n",
        "            if self.early_stopping(patience):\n",
        "                print('Early stopping!')\n",
        "                break\n",
        "            optimizer, loss_history = self.train_one_epoch(\n",
        "                dataloader_train, loss_fn, optimizer)\n",
        "            val_loss = self.evaluate(dataloader_val, loss_fn)\n",
        "            print(f'Validation loss: {val_loss:>8f}')\n",
        "            self.update_checkpoint(optimizer, epoch, loss_history, val_loss)\n",
        "            torch.save(self.checkpoint, 'checkpoint.pt')\n",
        "\n",
        "    def evaluate(\n",
        "        self,\n",
        "        dataloader: DataLoader,\n",
        "        loss_fn: torch.nn.Module,\n",
        "    ) -> float:\n",
        "        self.eval()\n",
        "        pbar = tqdm(dataloader, desc='Evaluation', unit='batch')\n",
        "        mean_loss = 0\n",
        "        with torch.no_grad():\n",
        "            for X, y in pbar:\n",
        "                y_pred = self(X)\n",
        "                loss = loss_fn(y_pred, y)\n",
        "                mean_loss += loss.item() / len(dataloader)\n",
        "                pbar.set_postfix_str(f'loss={loss.item():>8f}')\n",
        "        return mean_loss\n",
        "\n",
        "    def early_stopping(self, patience: int) -> bool:\n",
        "        if self.checkpoint['epochs'] == 0:\n",
        "            return False\n",
        "        val_loss = self.checkpoint['val_loss_history'][-1]\n",
        "        if self.checkpoint['best_val_loss'] < val_loss:\n",
        "            self.checkpoint['patience_counter'] += 1\n",
        "        else:\n",
        "            self.checkpoint['patience_counter'] = 0\n",
        "        return patience <= self.checkpoint['patience_counter']\n",
        "\n",
        "    def update_checkpoint(\n",
        "        self,\n",
        "        optimizer: torch.optim.Optimizer,\n",
        "        epoch: int,\n",
        "        train_loss_history: list,\n",
        "        val_loss: float\n",
        "    ):\n",
        "        self.checkpoint['model_state_dict'] = self.state_dict()\n",
        "        self.checkpoint['optimizer_state_dict'] = optimizer.state_dict()\n",
        "        self.checkpoint['train_loss_history'] += train_loss_history\n",
        "        self.checkpoint['val_loss_history'] += [val_loss] * \\\n",
        "            len(train_loss_history)\n",
        "        self.checkpoint['epochs'] += 1\n",
        "        if val_loss < self.checkpoint['best_val_loss']:\n",
        "            self.checkpoint['best_model_state_dict'] = self.state_dict()\n",
        "            self.checkpoint['best_val_loss'] = val_loss\n",
        "            self.checkpoint['best_epoch'] = epoch\n",
        "\n",
        "    def predict(self, dataloader: DataLoader) -> Tuple[\n",
        "            torch.Tensor, torch.Tensor]:\n",
        "        self.eval()\n",
        "        y_full = []  # Actual values\n",
        "        y_pred_full = []  # Predicted values\n",
        "        pbar = tqdm(dataloader, desc='Prediction', unit='batch')\n",
        "        with torch.no_grad():\n",
        "            for X, y in pbar:\n",
        "                y_pred = self(X)\n",
        "                y_full.append(y)\n",
        "                y_pred_full.append(y_pred)\n",
        "        return torch.cat(y_full), torch.cat(y_pred_full)\n",
        "\n",
        "\n",
        "# Test\n",
        "\n",
        "def test_transformerforecaster(model: TransformerForecaster,\n",
        "                               dataloader: DataLoader):\n",
        "    X, y = next(iter(dataloader))\n",
        "    y_pred = model(X)\n",
        "    assert y_pred.size() == torch.Size([32, N_FEAT])\n",
        "\n",
        "model = TransformerForecaster()\n",
        "\n",
        "test_transformerforecaster(model, dataloader)"
      ]
    },
    {
      "cell_type": "code",
      "execution_count": 7,
      "metadata": {
        "colab": {
          "base_uri": "https://localhost:8080/"
        },
        "id": "VVL4qtyZFQTX",
        "outputId": "1daa1a19-83c6-4003-ab29-2a697662fb7d"
      },
      "outputs": [
        {
          "output_type": "stream",
          "name": "stdout",
          "text": [
            "The model has 3574914 parameters\n"
          ]
        }
      ],
      "source": [
        "n_param = sum(p.numel() for p in model.parameters() if p.requires_grad)\n",
        "\n",
        "print(f'The model has {n_param} parameters')"
      ]
    },
    {
      "cell_type": "markdown",
      "metadata": {
        "id": "wumelxtQWeH7"
      },
      "source": [
        "Split training, validation, and test data."
      ]
    },
    {
      "cell_type": "code",
      "source": [
        "# Training\n",
        "data_eur_train = data_eur.loc[data_eur['TIME_PERIOD'] < '2023-01-01']\n",
        "data_gbp_train = data_gbp.loc[data_gbp['TIME_PERIOD'] < '2023-01-01']\n",
        "\n",
        "# Validation\n",
        "data_eur_val = data_eur.loc[('2023-01-01' <= data_eur['TIME_PERIOD']) &\n",
        "                            (data_eur['TIME_PERIOD'] < '2024-01-01')]\n",
        "data_eur_val = pd.concat([data_eur_train.iloc[-INPUT_LENGTH:], data_eur_val])\n",
        "data_gbp_val = data_gbp.loc[('2023-01-01' <= data_gbp['TIME_PERIOD']) &\n",
        "                            (data_gbp['TIME_PERIOD'] < '2024-01-01')]\n",
        "data_gbp_val = pd.concat([data_gbp_train.iloc[-INPUT_LENGTH:], data_gbp_val])\n",
        "\n",
        "# Test\n",
        "data_eur_test = data_eur.loc['2024-01-01' <= data_eur['TIME_PERIOD']]\n",
        "data_eur_test = pd.concat([data_eur_val.iloc[-INPUT_LENGTH:], data_eur_test])\n",
        "data_gbp_test = data_gbp.loc['2024-01-01' <= data_gbp['TIME_PERIOD']]\n",
        "data_gbp_test = pd.concat([data_gbp_val.iloc[-INPUT_LENGTH:], data_gbp_test])\n",
        "\n",
        "dataset_train = ExchangeTimeSeries(data_eur_train, data_gbp_train)\n",
        "dataset_val = ExchangeTimeSeries(data_eur_val, data_gbp_val)\n",
        "dataset_test = ExchangeTimeSeries(data_eur_test, data_gbp_test)\n",
        "\n",
        "dataloader_train = DataLoader(dataset_train, batch_size=32, shuffle=True)\n",
        "dataloader_val = DataLoader(dataset_val, batch_size=32, shuffle=False)\n",
        "dataloader_test = DataLoader(dataset_test, batch_size=32, shuffle=False)"
      ],
      "metadata": {
        "id": "RGoolYW3nuxS"
      },
      "execution_count": 8,
      "outputs": []
    },
    {
      "cell_type": "markdown",
      "metadata": {
        "id": "8F4BvCIEWs_i"
      },
      "source": [
        "Set mean and std for each dataset for normalization."
      ]
    },
    {
      "cell_type": "code",
      "execution_count": 9,
      "metadata": {
        "id": "fWD062XzH4L8"
      },
      "outputs": [],
      "source": [
        "mean, std = dataset_train.infer_mean_and_std()\n",
        "dataset_train.set_mean_and_std(mean, std)\n",
        "dataset_val.set_mean_and_std(mean, std)\n",
        "dataset_test.set_mean_and_std(mean, std)"
      ]
    },
    {
      "cell_type": "markdown",
      "metadata": {
        "id": "ZsS8_zoLpKvZ"
      },
      "source": [
        "Define loss function (L1) and optimizer (Adam)."
      ]
    },
    {
      "cell_type": "code",
      "execution_count": 10,
      "metadata": {
        "id": "PtULjNZpFanK"
      },
      "outputs": [],
      "source": [
        "loss_fn = torch.nn.L1Loss()\n",
        "optimizer = torch.optim.Adam(model.parameters(), lr=.0001)"
      ]
    },
    {
      "cell_type": "markdown",
      "metadata": {
        "id": "H_j808vepViz"
      },
      "source": [
        "Run training and save trained model."
      ]
    },
    {
      "cell_type": "code",
      "execution_count": null,
      "metadata": {
        "colab": {
          "base_uri": "https://localhost:8080/"
        },
        "id": "Z74hmG1IFwD5",
        "outputId": "38a25792-adc4-4aa8-d42b-e7a96cb2cd5c"
      },
      "outputs": [
        {
          "output_type": "stream",
          "name": "stdout",
          "text": [
            "-- Epoch 1 --\n"
          ]
        },
        {
          "output_type": "stream",
          "name": "stderr",
          "text": [
            "Training:   7%|▋         | 25/384 [00:30<06:15,  1.04s/batch, loss=0.160777]"
          ]
        }
      ],
      "source": [
        "import os\n",
        "\n",
        "if os.path.exists('checkpoint.pt'):\n",
        "    checkpoint = torch.load('checkpoint.pt')\n",
        "    model.load_state_dict(checkpoint['best_model_state_dict'])\n",
        "    optimizer.load_state_dict(checkpoint['optimizer_state_dict'])\n",
        "    model.checkpoint = checkpoint\n",
        "\n",
        "model.train_many_epochs(dataloader_train, dataloader_val, loss_fn,\n",
        "                        optimizer, 30, 3)"
      ]
    },
    {
      "cell_type": "code",
      "execution_count": null,
      "metadata": {
        "id": "_2HN1mUaOMTj"
      },
      "outputs": [],
      "source": [
        "model = TransformerForecaster()\n",
        "checkpoint = torch.load('checkpoint.pt')\n",
        "model.load_state_dict(checkpoint['best_model_state_dict'])"
      ]
    },
    {
      "cell_type": "code",
      "execution_count": null,
      "metadata": {
        "id": "EZXm8LIAGzNv"
      },
      "outputs": [],
      "source": [
        "plt.plot(checkpoint['train_loss_history'], label='Training')\n",
        "plt.plot(checkpoint['val_loss_history'], label='Validation')\n",
        "plt.xlabel('Iteration')\n",
        "plt.ylabel('Loss')\n",
        "plt.legend()\n",
        "plt.show()"
      ]
    },
    {
      "cell_type": "code",
      "source": [
        "model.predict(dataloader_test)"
      ],
      "metadata": {
        "id": "TT_b9Li0Mr1k"
      },
      "execution_count": null,
      "outputs": []
    }
  ],
  "metadata": {
    "accelerator": "GPU",
    "colab": {
      "gpuType": "T4",
      "provenance": []
    },
    "kernelspec": {
      "display_name": "Python 3",
      "name": "python3"
    },
    "language_info": {
      "name": "python"
    }
  },
  "nbformat": 4,
  "nbformat_minor": 0
}